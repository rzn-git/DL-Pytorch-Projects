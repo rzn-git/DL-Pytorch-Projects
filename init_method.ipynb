{
 "cells": [
  {
   "cell_type": "code",
   "execution_count": 3,
   "metadata": {},
   "outputs": [
    {
     "name": "stdout",
     "output_type": "stream",
     "text": [
      "Hello, my name is Alice and I am 30 years old.\n"
     ]
    }
   ],
   "source": [
    "class Person:\n",
    "    def __init__(self, name, age):  # __init__ is used to initialize the object when created\n",
    "        self.na = name  # Initialize the 'name' attribute with the value passed as 'name'\n",
    "        self.ag = age    # Initialize the 'age' attribute with the value passed as 'age'\n",
    "\n",
    "    def greet(self):\n",
    "        # A simple method that uses the initialized values\n",
    "        print(f\"Hello, my name is {self.na} and I am {self.ag} years old.\")\n",
    "\n",
    "# Creating an instance of the Person class\n",
    "person1 = Person(\"Alice\", 30)  # 'Alice' and 30 are passed to __init__\n",
    "\n",
    "# Now the object 'person1' has the attributes 'name' and 'age'\n",
    "person1.greet()  # Output: Hello, my name is Alice and I am 30 years old.\n"
   ]
  },
  {
   "cell_type": "code",
   "execution_count": 10,
   "metadata": {},
   "outputs": [
    {
     "name": "stdout",
     "output_type": "stream",
     "text": [
      "Car: bmw v30\n"
     ]
    }
   ],
   "source": [
    "class Car:\n",
    "    def __init__(self, brand, model):  # __init__ is the mandatory method for initialization\n",
    "        self.brand = brand\n",
    "        self.model = model\n",
    "\n",
    "    def display_info(self):  # This is a custom method you can name anything\n",
    "        print(f\"Car: {self.brand} {self.model}\")\n",
    "\n",
    "some = Car(\"bmw\",\"v30\")\n",
    "some.display_info()\n"
   ]
  }
 ],
 "metadata": {
  "kernelspec": {
   "display_name": "base",
   "language": "python",
   "name": "python3"
  },
  "language_info": {
   "codemirror_mode": {
    "name": "ipython",
    "version": 3
   },
   "file_extension": ".py",
   "mimetype": "text/x-python",
   "name": "python",
   "nbconvert_exporter": "python",
   "pygments_lexer": "ipython3",
   "version": "3.12.5"
  }
 },
 "nbformat": 4,
 "nbformat_minor": 2
}
